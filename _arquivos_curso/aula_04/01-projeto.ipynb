{
 "cells": [
  {
   "cell_type": "markdown",
   "metadata": {},
   "source": [
    "\n",
    "\n",
    "1. Download dos dados\n",
    "   1. Pode ser utilizado o dataset SINASC - *nascidos vivos*\n",
    "2. mandar um print com a resposta \n",
    "   1. wendel vai documentar\n",
    "   2. quantos nascidos em nov 23\n",
    "   3. deve inventar outras consultas\n",
    "   4. ele quer ver a resposta final "
   ]
  },
  {
   "cell_type": "code",
   "execution_count": 2,
   "metadata": {},
   "outputs": [],
   "source": [
    "import os\n",
    "import pandas as pd\n",
    "import numpy as np\n",
    "from datetime import datetime\n",
    "\n",
    "import urllib.request\n",
    "from multiprocessing import Pool\n",
    "from tqdm import tqdm\n",
    "import json\n",
    "\n",
    "import datetime\n",
    "\n",
    "import sys\n",
    "\n"
   ]
  },
  {
   "cell_type": "code",
   "execution_count": 4,
   "metadata": {},
   "outputs": [
    {
     "data": {
      "text/plain": [
       "array(['2024-01', '2024-02', '2024-03', '2024-04'], dtype='datetime64[M]')"
      ]
     },
     "metadata": {},
     "output_type": "display_data"
    }
   ],
   "source": [
    "dt_start = '2024-01-01'\n",
    "dt_stop = '2024-05-01'\n",
    "datasource = \"sihsus\"\n",
    "delay = 0\n",
    "\n",
    "period = np.arange(dt_start, dt_stop, dtype='datetime64[M]')\n",
    "\n",
    "\n",
    "ufs = [\"RO\", \"AC\", \"AM\", \"RR\",\"PA\",\n",
    "       \"AP\", \"TO\", \"MA\", \"PI\", \"CE\",\n",
    "       \"RN\", \"PB\", \"PE\", \"AL\", \"SE\",\n",
    "       \"BA\", \"MG\", \"ES\", \"RJ\", \"SP\",\n",
    "       \"PR\", \"SC\", \"RS\", \"MS\", \"MT\",\n",
    "       \"GO\", \"DF\"]\n",
    "\n",
    "ufs.sort(reverse=True)\n",
    "\n",
    "display(period)"
   ]
  },
  {
   "cell_type": "code",
   "execution_count": 9,
   "metadata": {},
   "outputs": [
    {
     "data": {
      "text/plain": [
       "'POBR2024.dbc'"
      ]
     },
     "execution_count": 9,
     "metadata": {},
     "output_type": "execute_result"
    }
   ],
   "source": [
    "path = \"ftp://ftp.datasus.gov.br/dissemin/publicos/PAINEL_ONCOLOGIA/DADOS/POBR2024.dbc\"\n",
    "\n",
    "os.path.split(path)[1]  "
   ]
  },
  {
   "cell_type": "code",
   "execution_count": null,
   "metadata": {},
   "outputs": [],
   "source": [
    "/dbfs/datasus/raw/painel_oncologia/dbc\n",
    "/dbfs/datasus/raw/painel_oncologia/parquet"
   ]
  }
 ],
 "metadata": {
  "kernelspec": {
   "display_name": "Python 3",
   "language": "python",
   "name": "python3"
  },
  "language_info": {
   "codemirror_mode": {
    "name": "ipython",
    "version": 3
   },
   "file_extension": ".py",
   "mimetype": "text/x-python",
   "name": "python",
   "nbconvert_exporter": "python",
   "pygments_lexer": "ipython3",
   "version": "3.10.12"
  }
 },
 "nbformat": 4,
 "nbformat_minor": 2
}
