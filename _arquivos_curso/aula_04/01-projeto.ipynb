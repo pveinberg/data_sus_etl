{
 "cells": [
  {
   "cell_type": "code",
   "execution_count": 5,
   "metadata": {},
   "outputs": [],
   "source": [
    "import os\n",
    "import pandas as pd\n",
    "\n",
    "fazer com sinasc - nascidos vivos\n",
    "\n",
    "mandar um print com a resposta\n",
    "\n",
    "wendel vai documentar\n",
    "\n",
    "\n",
    "quantos nascidos em nov 23\n",
    "\n",
    "enviar o resultado da resposta\n",
    "\n",
    "como um print \n",
    "\n",
    "pode inventar outras consultas\n",
    "\n",
    "ele quer ver a resposta final \n",
    "\n",
    "\n"
   ]
  },
  {
   "cell_type": "code",
   "execution_count": 4,
   "metadata": {},
   "outputs": [],
   "source": [
    "estados = ['PE', 'PB']\n",
    "anos = ['2023']\n",
    "meses = ['01', '02']\n",
    "\n"
   ]
  },
  {
   "cell_type": "code",
   "execution_count": null,
   "metadata": {},
   "outputs": [],
   "source": [
    "import urllib.request\n",
    "\n",
    "for estado in estados:\n",
    "    for ano in anos:\n",
    "        for mes in meses:\n",
    "            colocar delay\n",
    "            \n",
    "# urllib.request.urlretrieve(file)"
   ]
  }
 ],
 "metadata": {
  "kernelspec": {
   "display_name": "Python 3",
   "language": "python",
   "name": "python3"
  },
  "language_info": {
   "codemirror_mode": {
    "name": "ipython",
    "version": 3
   },
   "file_extension": ".py",
   "mimetype": "text/x-python",
   "name": "python",
   "nbconvert_exporter": "python",
   "pygments_lexer": "ipython3",
   "version": "3.10.12"
  }
 },
 "nbformat": 4,
 "nbformat_minor": 2
}
